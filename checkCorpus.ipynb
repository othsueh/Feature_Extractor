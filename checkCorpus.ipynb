{
 "cells": [
  {
   "cell_type": "markdown",
   "metadata": {},
   "source": [
    "#### TODO\n",
    "- Implement a better UX/UI to read corpus information."
   ]
  },
  {
   "cell_type": "code",
   "execution_count": 1,
   "metadata": {},
   "outputs": [],
   "source": [
    "import os\n",
    "import tomli\n",
    "import pandas as pd\n",
    "import numpy as np\n",
    "import glob\n",
    "import time"
   ]
  },
  {
   "cell_type": "code",
   "execution_count": 2,
   "metadata": {},
   "outputs": [],
   "source": [
    "with open(\"config.toml\",\"rb\") as f:\n",
    "    config = tomli.load(f)\n",
    "dataset = \"MSPPODCAST\"\n",
    "text_dir = config[dataset][\"PATH_TO_TRANSCRIPT\"]\n",
    "audio_dir = config[dataset][\"PATH_TO_AUDIO\"]\n",
    "label_path = config[dataset][\"PATH_TO_LABEL\"]\n",
    "partition_path = config[dataset][\"PATH_TO_PARTITION\"]\n",
    "readme_path = config[dataset][\"PATH_TO_README\"]\n",
    "feature_path = config[dataset][\"PATH_TO_FEATURE\"]"
   ]
  },
  {
   "cell_type": "code",
   "execution_count": 5,
   "metadata": {},
   "outputs": [
    {
     "data": {
      "text/plain": [
       "(116221, 119421)"
      ]
     },
     "execution_count": 5,
     "metadata": {},
     "output_type": "execute_result"
    }
   ],
   "source": [
    "text_files = glob.glob(text_dir + \"/*.txt\")\n",
    "audio_files = glob.glob(audio_dir + \"/*.wav\")\n",
    "len(text_files),len(audio_files)"
   ]
  },
  {
   "cell_type": "code",
   "execution_count": 25,
   "metadata": {},
   "outputs": [
    {
     "name": "stdout",
     "output_type": "stream",
     "text": [
      " a civil unrest like this, there are three types of people in this, \n",
      "... this is just one of the pieces. i did three, i have two 14 x 20s and i mean 14 x 14-\n",
      "that was very disappointing for me, i think, in so far as-\n",
      "really cool discussions could have been a little more natural and it would've-\n",
      " i, that is the appropriateness. we got pizza. you know what i'm saying? ... \n",
      " you start running, pulling on your rucksack as you go, and finally you're on your way, and suddenly, quite calm, like a solitary tree with every single leaf completely still.\n",
      "to whether the international union of police associations the iupa should be expelled.\n",
      " there you go. nice. \n",
      "[inaudible 00:03:33] how many people report abuse or sexual assault or whatever. and basically this is... because when it comes to-\n",
      "but it clearly wasn't. but now if we have a woman-\n"
     ]
    }
   ],
   "source": [
    "random_idx = np.random.randint(0,len(text_files),10)\n",
    "for i in random_idx:\n",
    "    sentence = open(text_files[i]).read()\n",
    "    print(sentence)"
   ]
  },
  {
   "cell_type": "code",
   "execution_count": 28,
   "metadata": {},
   "outputs": [
    {
     "data": {
      "text/plain": [
       "'MSP-PODCAST_2379_0032'"
      ]
     },
     "execution_count": 28,
     "metadata": {},
     "output_type": "execute_result"
    }
   ],
   "source": [
    "os.path.basename(text_files[0]).split(\".\")[0]"
   ]
  },
  {
   "cell_type": "code",
   "execution_count": 15,
   "metadata": {},
   "outputs": [
    {
     "data": {
      "text/plain": [
       "116221"
      ]
     },
     "execution_count": 15,
     "metadata": {},
     "output_type": "execute_result"
    }
   ],
   "source": [
    "labels = pd.read_csv(label_path)\n",
    "len(labels)"
   ]
  },
  {
   "cell_type": "code",
   "execution_count": 30,
   "metadata": {},
   "outputs": [
    {
     "data": {
      "text/plain": [
       "3200"
      ]
     },
     "execution_count": 30,
     "metadata": {},
     "output_type": "execute_result"
    }
   ],
   "source": [
    "with open(partition_path,\"r\") as f:\n",
    "    partition = f.readlines()\n",
    "partition = [p.strip() for p in partition]\n",
    "test_count = 0\n",
    "for p in partition:\n",
    "    if \"test\" in p:\n",
    "        test_count += 1\n",
    "test_count"
   ]
  },
  {
   "cell_type": "code",
   "execution_count": null,
   "metadata": {},
   "outputs": [],
   "source": [
    "with open(readme_path,\"r\") as f:\n",
    "    readme = f.readlines()\n",
    "readme = [r.strip() for r in readme]\n",
    "for line in readme:\n",
    "    print(line)"
   ]
  }
 ],
 "metadata": {
  "kernelspec": {
   "display_name": "msp_env",
   "language": "python",
   "name": "python3"
  },
  "language_info": {
   "codemirror_mode": {
    "name": "ipython",
    "version": 3
   },
   "file_extension": ".py",
   "mimetype": "text/x-python",
   "name": "python",
   "nbconvert_exporter": "python",
   "pygments_lexer": "ipython3",
   "version": "3.9.12"
  }
 },
 "nbformat": 4,
 "nbformat_minor": 2
}
