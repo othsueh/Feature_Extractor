{
 "cells": [
  {
   "cell_type": "code",
   "execution_count": 12,
   "metadata": {},
   "outputs": [],
   "source": [
    "import numpy as np\n",
    "import pandas as pd\n",
    "import os\n",
    "import tomli\n",
    "import glob\n",
    "import torch\n",
    "import random\n",
    "from torch.utils.data import DataLoader, Dataset, IterableDataset"
   ]
  },
  {
   "cell_type": "code",
   "execution_count": 2,
   "metadata": {},
   "outputs": [],
   "source": [
    "with open(\"config.toml\", \"rb\") as f:\n",
    "    config = tomli.load(f)"
   ]
  },
  {
   "cell_type": "code",
   "execution_count": 3,
   "metadata": {},
   "outputs": [],
   "source": [
    "corpus = \"MSPPODCAST\"\n",
    "corpus_path = config[corpus][\"PATH_TO_LABEL\"]\n",
    "corpus_df = pd.read_csv(corpus_path)\n",
    "corpus_df[\"FileName\"]= corpus_df[\"FileName\"].str.replace('.wav', '')"
   ]
  },
  {
   "cell_type": "code",
   "execution_count": 4,
   "metadata": {},
   "outputs": [
    {
     "data": {
      "text/html": [
       "<div>\n",
       "<style scoped>\n",
       "    .dataframe tbody tr th:only-of-type {\n",
       "        vertical-align: middle;\n",
       "    }\n",
       "\n",
       "    .dataframe tbody tr th {\n",
       "        vertical-align: top;\n",
       "    }\n",
       "\n",
       "    .dataframe thead th {\n",
       "        text-align: right;\n",
       "    }\n",
       "</style>\n",
       "<table border=\"1\" class=\"dataframe\">\n",
       "  <thead>\n",
       "    <tr style=\"text-align: right;\">\n",
       "      <th></th>\n",
       "      <th>FileName</th>\n",
       "      <th>EmoClass</th>\n",
       "      <th>EmoAct</th>\n",
       "      <th>EmoVal</th>\n",
       "      <th>EmoDom</th>\n",
       "      <th>SpkrID</th>\n",
       "      <th>Gender</th>\n",
       "      <th>Split_Set</th>\n",
       "    </tr>\n",
       "  </thead>\n",
       "  <tbody>\n",
       "    <tr>\n",
       "      <th>0</th>\n",
       "      <td>MSP-PODCAST_0002_0033</td>\n",
       "      <td>N</td>\n",
       "      <td>4.8</td>\n",
       "      <td>4.2</td>\n",
       "      <td>5.4</td>\n",
       "      <td>127</td>\n",
       "      <td>Female</td>\n",
       "      <td>Development</td>\n",
       "    </tr>\n",
       "    <tr>\n",
       "      <th>1</th>\n",
       "      <td>MSP-PODCAST_0002_0039</td>\n",
       "      <td>N</td>\n",
       "      <td>4.0</td>\n",
       "      <td>4.2</td>\n",
       "      <td>4.2</td>\n",
       "      <td>127</td>\n",
       "      <td>Female</td>\n",
       "      <td>Development</td>\n",
       "    </tr>\n",
       "    <tr>\n",
       "      <th>2</th>\n",
       "      <td>MSP-PODCAST_0002_0051</td>\n",
       "      <td>N</td>\n",
       "      <td>4.0</td>\n",
       "      <td>4.2</td>\n",
       "      <td>4.2</td>\n",
       "      <td>127</td>\n",
       "      <td>Female</td>\n",
       "      <td>Development</td>\n",
       "    </tr>\n",
       "    <tr>\n",
       "      <th>3</th>\n",
       "      <td>MSP-PODCAST_0002_0059</td>\n",
       "      <td>X</td>\n",
       "      <td>4.0</td>\n",
       "      <td>3.8</td>\n",
       "      <td>4.0</td>\n",
       "      <td>128</td>\n",
       "      <td>Female</td>\n",
       "      <td>Development</td>\n",
       "    </tr>\n",
       "    <tr>\n",
       "      <th>4</th>\n",
       "      <td>MSP-PODCAST_0002_0061</td>\n",
       "      <td>F</td>\n",
       "      <td>3.4</td>\n",
       "      <td>2.8</td>\n",
       "      <td>4.2</td>\n",
       "      <td>128</td>\n",
       "      <td>Female</td>\n",
       "      <td>Development</td>\n",
       "    </tr>\n",
       "  </tbody>\n",
       "</table>\n",
       "</div>"
      ],
      "text/plain": [
       "                FileName EmoClass  EmoAct  EmoVal  EmoDom  SpkrID  Gender  \\\n",
       "0  MSP-PODCAST_0002_0033        N     4.8     4.2     5.4     127  Female   \n",
       "1  MSP-PODCAST_0002_0039        N     4.0     4.2     4.2     127  Female   \n",
       "2  MSP-PODCAST_0002_0051        N     4.0     4.2     4.2     127  Female   \n",
       "3  MSP-PODCAST_0002_0059        X     4.0     3.8     4.0     128  Female   \n",
       "4  MSP-PODCAST_0002_0061        F     3.4     2.8     4.2     128  Female   \n",
       "\n",
       "     Split_Set  \n",
       "0  Development  \n",
       "1  Development  \n",
       "2  Development  \n",
       "3  Development  \n",
       "4  Development  "
      ]
     },
     "execution_count": 4,
     "metadata": {},
     "output_type": "execute_result"
    }
   ],
   "source": [
    "corpus_df.head()"
   ]
  },
  {
   "cell_type": "code",
   "execution_count": 5,
   "metadata": {},
   "outputs": [],
   "source": [
    "# Remove non consensus labels\n",
    "main_corpus_df = corpus_df[~corpus_df[\"EmoClass\"].isin([\"X\", \"O\"])]"
   ]
  },
  {
   "cell_type": "code",
   "execution_count": 71,
   "metadata": {},
   "outputs": [
    {
     "data": {
      "image/png": "[encoded data removed]",
      "text/plain": [
       "<Figure size 500x300 with 1 Axes>"
      ]
     },
     "metadata": {},
     "output_type": "display_data"
    },
    {
     "name": "stdout",
     "output_type": "stream",
     "text": [
      "\n",
      "Emotion Distribution:\n",
      "EmoClass\n",
      "N    36666\n",
      "H    23061\n",
      "X    21993\n",
      "A    12567\n",
      "S     8647\n",
      "C     3954\n",
      "U     3935\n",
      "O     1978\n",
      "D     1974\n",
      "F     1446\n",
      "Name: count, dtype: int64\n"
     ]
    }
   ],
   "source": [
    "# Create a bar chart showing emotion distribution\n",
    "import matplotlib.pyplot as plt\n",
    "\n",
    "emotion_counts = corpus_df['EmoClass'].value_counts()\n",
    "plt.figure(figsize=(5,3))\n",
    "plt.bar(emotion_counts.index, emotion_counts.values)\n",
    "plt.title('Distribution of Emotions in MSP-Podcast Corpus')\n",
    "plt.xlabel('Emotion Class')\n",
    "plt.ylabel('Count')\n",
    "plt.xticks(rotation=45)\n",
    "plt.tight_layout()\n",
    "plt.show()\n",
    "\n",
    "# Print actual counts\n",
    "print(\"\\nEmotion Distribution:\")\n",
    "print(emotion_counts)"
   ]
  },
  {
   "cell_type": "code",
   "execution_count": 30,
   "metadata": {},
   "outputs": [],
   "source": [
    "# get test data\n",
    "# total_audio = glob.glob(f\"{config[corpus]['PATH_TO_AUDIO']}/*.wav\")\n",
    "# total_audio = [os.path.basename(x).replace('.wav', '') for x in total_audio]\n",
    "# test_audio = [x for x in total_audio if x not in corpus_df[\"FileName\"].values]"
   ]
  },
  {
   "cell_type": "code",
   "execution_count": 6,
   "metadata": {},
   "outputs": [
    {
     "name": "stderr",
     "output_type": "stream",
     "text": [
      "/tmp/ipykernel_2133320/1103878050.py:1: UserWarning: Boolean Series key will be reindexed to match DataFrame index.\n",
      "  train_df = main_corpus_df[corpus_df[\"Split_Set\"] == \"Train\"]\n",
      "/tmp/ipykernel_2133320/1103878050.py:2: UserWarning: Boolean Series key will be reindexed to match DataFrame index.\n",
      "  dev_df = main_corpus_df[corpus_df[\"Split_Set\"] == \"Development\"]\n"
     ]
    }
   ],
   "source": [
    "train_df = main_corpus_df[corpus_df[\"Split_Set\"] == \"Train\"]\n",
    "dev_df = main_corpus_df[corpus_df[\"Split_Set\"] == \"Development\"]\n",
    "test_df = pd.read_csv(config[corpus][\"PATH_TO_TEST\"])"
   ]
  },
  {
   "cell_type": "code",
   "execution_count": 7,
   "metadata": {},
   "outputs": [],
   "source": [
    "def onehot_MSPPODCAST(emotion):\n",
    "    # emotions = [\"Angry\", \"Sad\", \"Happy\", \"Surprise\", \"Fear\", \"Disgust\", \"Contempt\", \"Neutral\"]\n",
    "    emotion_codes = [\"A\", \"S\", \"H\", \"U\", \"F\", \"D\", \"C\", \"N\"]\n",
    "    one_hot_dict = {e: [1.0 if e == ec else 0.0 for ec in emotion_codes] for e in emotion_codes}\n",
    "    return one_hot_dict[emotion]"
   ]
  },
  {
   "cell_type": "code",
   "execution_count": 13,
   "metadata": {},
   "outputs": [],
   "source": [
    "class CustomDataset(IterableDataset):\n",
    "    def __init__(self, df, text_path, audio_path, transform=None,seed=42):\n",
    "        super(CustomDataset).__init__()\n",
    "        self.df = df\n",
    "        self.text_path = text_path\n",
    "        self.audio_path = audio_path\n",
    "        self.transform = transform\n",
    "        self.seed = seed\n",
    "\n",
    "        # Total length for worker distribution\n",
    "        self.total_samples = len(self.df)\n",
    "\n",
    "    def __iter__(self):\n",
    "        worker_info = torch.utils.data.get_worker_info()\n",
    "        df = self.df\n",
    "        if worker_info:\n",
    "            per_worker = self.total_samples // worker_info.num_workers\n",
    "            worker_id = worker_info.id\n",
    "\n",
    "            # Set the random shuffle\n",
    "            rng = random.Random(self.seed + worker_id)\n",
    "            indices = list(range(len(df)))\n",
    "            rng.shuffle(indices)\n",
    "\n",
    "            # Set the start and end indices for the worker\n",
    "            start_idx = worker_id * per_worker\n",
    "            end_idx = start_idx + per_worker if worker_id < worker_info.num_workers - 1 else None\n",
    "\n",
    "        for idx in indices[start_idx:end_idx]:\n",
    "            row = df.iloc[idx]\n",
    "            try:\n",
    "                data = self._load_data(row, self.text_path, self.audio_path)\n",
    "                if self.transform:\n",
    "                    data = self.transform(data)\n",
    "                yield data\n",
    "            except Exception as e:\n",
    "                print(f\"Error loading file: {e}\")\n",
    "                continue\n",
    "    def _load_data(self, row, text_path, audio_path):\n",
    "        name = row[\"FileName\"]\n",
    "        text_features = np.load(os.path.join(text_path, name + \".npy\"))\n",
    "        audio_features = np.load(os.path.join(audio_path, name + \".npy\"))\n",
    "        category = onehot_MSPPODCAST(row[\"EmoClass\"])\n",
    "        avd = [row['EmoAct'],row['EmoVal'],row['EmoDom']]\n",
    "        data = {\n",
    "            \"text\": torch.tensor(text_features),\n",
    "            \"audio\": torch.tensor(audio_features),\n",
    "        }\n",
    "        label = {\n",
    "            \"category\": torch.tensor(category),\n",
    "            \"avd\": torch.tensor(avd)\n",
    "        }\n",
    "        return data, label\n"
   ]
  },
  {
   "cell_type": "code",
   "execution_count": 9,
   "metadata": {},
   "outputs": [],
   "source": [
    "def get_feature_dir(model):\n",
    "    path = os.path.join(config[corpus][\"PATH_TO_FEATURE\"], model)\n",
    "    assert os.path.exists(path), f\"Feature directory {path} does not exist\"\n",
    "    return path"
   ]
  },
  {
   "cell_type": "code",
   "execution_count": 14,
   "metadata": {},
   "outputs": [],
   "source": [
    "text_feature_extractor = 'roberta-base-UTT'\n",
    "audio_feature_extractor = 'whisper-large-v3-UTT'\n",
    "text_feature = get_feature_dir(text_feature_extractor)\n",
    "audio_feature = get_feature_dir(audio_feature_extractor)\n",
    "\n",
    "train_dataset = CustomDataset(train_df, text_feature, audio_feature)\n",
    "valid_dataset = CustomDataset(dev_df, text_feature, audio_feature)"
   ]
  },
  {
   "cell_type": "code",
   "execution_count": 109,
   "metadata": {},
   "outputs": [
    {
     "data": {
      "text/plain": [
       "(66992, 25258)"
      ]
     },
     "execution_count": 109,
     "metadata": {},
     "output_type": "execute_result"
    }
   ],
   "source": [
    "train_dataset.total_samples, valid_dataset.total_samples"
   ]
  },
  {
   "cell_type": "code",
   "execution_count": null,
   "metadata": {},
   "outputs": [],
   "source": [
    "train_loader = DataLoader(train_dataset, batch_size=32, num_workers=16)\n",
    "for batch_idx, (data, label) in enumerate(train_loader):\n",
    "    print(f\"Batch {batch_idx}:\")\n",
    "    print(data['text'].shape)\n",
    "    print(data['audio'].shape)\n",
    "    print(label['category'].shape)\n",
    "    print(label['avd'].shape)"
   ]
  },
  {
   "cell_type": "code",
   "execution_count": null,
   "metadata": {},
   "outputs": [],
   "source": [
    "# Find optimal number of workers, best = 16\n",
    "import time\n",
    "\n",
    "def test_num_workers(dataset, num_workers_list):\n",
    "    results = {}\n",
    "    for num_workers in num_workers_list:\n",
    "        dataloader = DataLoader(\n",
    "            dataset,\n",
    "            batch_size=32,\n",
    "            num_workers=num_workers\n",
    "        )\n",
    "        \n",
    "        start = time.time()\n",
    "        for _ in dataloader:\n",
    "            pass\n",
    "        end = time.time()\n",
    "        \n",
    "        results[num_workers] = end - start\n",
    "        \n",
    "    return results\n",
    "\n",
    "# Test different numbers of workers\n",
    "workers_to_test = [0, 2, 4, 8, 16]\n",
    "times = test_num_workers(train_dataset, workers_to_test)\n",
    "# time\n",
    "# {0: 2512.5396559238434,\n",
    "#   2: 47.493666648864746,\n",
    "#   4: 26.07319188117981,\n",
    "#   8: 15.25866961479187,\n",
    "#   16: 11.122616052627563},\n",
    "# Find optimal setting\n",
    "optimal_workers = min(times, key=times.get)"
   ]
  },
  {
   "cell_type": "code",
   "execution_count": 91,
   "metadata": {},
   "outputs": [
    {
     "data": {
      "text/plain": [
       "({0: 2512.5396559238434,\n",
       "  2: 47.493666648864746,\n",
       "  4: 26.07319188117981,\n",
       "  8: 15.25866961479187,\n",
       "  16: 11.122616052627563},\n",
       " 16)"
      ]
     },
     "execution_count": 91,
     "metadata": {},
     "output_type": "execute_result"
    }
   ],
   "source": [
    "times, optimal_workers"
   ]
  }
 ],
 "metadata": {
  "kernelspec": {
   "display_name": "msp_env",
   "language": "python",
   "name": "python3"
  },
  "language_info": {
   "codemirror_mode": {
    "name": "ipython",
    "version": 3
   },
   "file_extension": ".py",
   "mimetype": "text/x-python",
   "name": "python",
   "nbconvert_exporter": "python",
   "pygments_lexer": "ipython3",
   "version": "3.9.12"
  }
 },
 "nbformat": 4,
 "nbformat_minor": 2
}
